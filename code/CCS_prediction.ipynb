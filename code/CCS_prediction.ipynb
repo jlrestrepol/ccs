{
 "cells": [
  {
   "cell_type": "markdown",
   "id": "a32a806b-c868-4bed-9775-4fdb86a06b3f",
   "metadata": {},
   "source": [
    "# CCS Prediction\n",
    "This notebook focuses on analyzing the CCS prediction using different methods, performance comparison will be shown"
   ]
  },
  {
   "cell_type": "markdown",
   "id": "9d37c886-cee6-45f3-9c75-85aee5563cbe",
   "metadata": {},
   "source": [
    "## Preliminars"
   ]
  },
  {
   "cell_type": "code",
   "execution_count": 1,
   "id": "6b8e4dcf-0db9-499c-a8f2-9d6d64e051bb",
   "metadata": {
    "execution": {
     "iopub.execute_input": "2021-10-26T12:58:56.936743Z",
     "iopub.status.busy": "2021-10-26T12:58:56.935855Z",
     "iopub.status.idle": "2021-10-26T12:58:58.422175Z",
     "shell.execute_reply": "2021-10-26T12:58:58.421089Z",
     "shell.execute_reply.started": "2021-10-26T12:58:56.936583Z"
    }
   },
   "outputs": [],
   "source": [
    "import numpy as np\n",
    "import pandas as pd\n",
    "import matplotlib.pyplot as plt\n",
    "import seaborn as sns\n",
    "import sys"
   ]
  },
  {
   "cell_type": "code",
   "execution_count": null,
   "id": "71a8e306-9a05-4c51-a023-2c53a47325e8",
   "metadata": {},
   "outputs": [],
   "source": [
    "df_fig1 = pd.read_csv()"
   ]
  }
 ],
 "metadata": {
  "kernelspec": {
   "display_name": "Python [conda env:ccs]",
   "language": "python",
   "name": "conda-env-ccs-py"
  },
  "language_info": {
   "codemirror_mode": {
    "name": "ipython",
    "version": 3
   },
   "file_extension": ".py",
   "mimetype": "text/x-python",
   "name": "python",
   "nbconvert_exporter": "python",
   "pygments_lexer": "ipython3",
   "version": "3.7.11"
  }
 },
 "nbformat": 4,
 "nbformat_minor": 5
}
